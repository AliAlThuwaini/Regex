{
 "cells": [
  {
   "cell_type": "markdown",
   "metadata": {},
   "source": [
    "## re Methods: Code Examples"
   ]
  },
  {
   "cell_type": "markdown",
   "metadata": {},
   "source": [
    "## Some Important Methods"
   ]
  },
  {
   "cell_type": "code",
   "execution_count": 3,
   "metadata": {},
   "outputs": [],
   "source": [
    "import re"
   ]
  },
  {
   "cell_type": "code",
   "execution_count": 4,
   "metadata": {},
   "outputs": [],
   "source": [
    "text1 = 'This is a beautiful day"
   ]
  },
  {
   "cell_type": "markdown",
   "metadata": {},
   "source": [
    "#### search Method\n",
    "searches for the pattern in all text but return the first occurance object"
   ]
  },
  {
   "cell_type": "code",
   "execution_count": 5,
   "metadata": {},
   "outputs": [
    {
     "data": {
      "text/plain": [
       "<re.Match object; span=(2, 4), match='is'>"
      ]
     },
     "execution_count": 5,
     "metadata": {},
     "output_type": "execute_result"
    }
   ],
   "source": [
    "re.search(r'is', text1)"
   ]
  },
  {
   "cell_type": "code",
   "execution_count": 6,
   "metadata": {},
   "outputs": [
    {
     "name": "stdout",
     "output_type": "stream",
     "text": [
      "group method output shows the actual match:  is\n",
      "Start location of the match object:  2\n",
      "End location of the match object:  4\n",
      "Span location of the match object:  (2, 4)\n"
     ]
    }
   ],
   "source": [
    "#use some methods:\n",
    "m = re.search(r'is', text1)\n",
    "print('group method output shows the actual match: ', m.group())\n",
    "print('Start location of the match object: ', m.start())\n",
    "print('End location of the match object: ', m.end())\n",
    "print('Span location of the match object: ', m.span())"
   ]
  },
  {
   "cell_type": "markdown",
   "metadata": {},
   "source": [
    "#### match Method\n",
    "match function searches for the pattern only in the beginning of the text: Therefore, the first letters does not match and the output is None!"
   ]
  },
  {
   "cell_type": "code",
   "execution_count": 7,
   "metadata": {},
   "outputs": [
    {
     "name": "stdout",
     "output_type": "stream",
     "text": [
      "None\n"
     ]
    }
   ],
   "source": [
    "print(re.match(r'is', text1))"
   ]
  },
  {
   "cell_type": "code",
   "execution_count": 8,
   "metadata": {},
   "outputs": [],
   "source": [
    "m = re.match(r'Th', text1)"
   ]
  },
  {
   "cell_type": "code",
   "execution_count": 9,
   "metadata": {},
   "outputs": [
    {
     "name": "stdout",
     "output_type": "stream",
     "text": [
      "group method output shows the actual match:  Th\n",
      "Start location of the match object:  0\n",
      "End location of the match object:  2\n",
      "Span location of the match object:  (0, 2)\n"
     ]
    }
   ],
   "source": [
    "#again we can utilize the other functions such as group, start, end and span here:\n",
    "print('group method output shows the actual match: ', m.group())\n",
    "print('Start location of the match object: ', m.start())\n",
    "print('End location of the match object: ', m.end())\n",
    "print('Span location of the match object: ', m.span())"
   ]
  },
  {
   "cell_type": "markdown",
   "metadata": {},
   "source": [
    "#### findall Method\n",
    "searches in all text and returns all non overlapping occurances of the object as a list"
   ]
  },
  {
   "cell_type": "code",
   "execution_count": 10,
   "metadata": {},
   "outputs": [
    {
     "data": {
      "text/plain": [
       "['is', 'is']"
      ]
     },
     "execution_count": 10,
     "metadata": {},
     "output_type": "execute_result"
    }
   ],
   "source": [
    "re.findall(r'is', text1)"
   ]
  },
  {
   "cell_type": "code",
   "execution_count": 11,
   "metadata": {},
   "outputs": [],
   "source": [
    "text2 = 'abbbaaabbbbabababa'"
   ]
  },
  {
   "cell_type": "code",
   "execution_count": 12,
   "metadata": {},
   "outputs": [
    {
     "data": {
      "text/plain": [
       "['ba', 'ba', 'ba', 'ba', 'ba']"
      ]
     },
     "execution_count": 12,
     "metadata": {},
     "output_type": "execute_result"
    }
   ],
   "source": [
    "re.findall(r'ba', text2)"
   ]
  },
  {
   "cell_type": "markdown",
   "metadata": {},
   "source": [
    "#### finditer Method\n",
    "searches in all text and returns an iterative object from which we can retreive all non overlapping occurances of the object by looping over. This is useful if the expected result is huge in order not to flud the memory"
   ]
  },
  {
   "cell_type": "code",
   "execution_count": 13,
   "metadata": {},
   "outputs": [
    {
     "data": {
      "text/plain": [
       "callable_iterator"
      ]
     },
     "execution_count": 13,
     "metadata": {},
     "output_type": "execute_result"
    }
   ],
   "source": [
    "mat = re.finditer(r'ba', text2)\n",
    "type(mat)"
   ]
  },
  {
   "cell_type": "code",
   "execution_count": 14,
   "metadata": {},
   "outputs": [
    {
     "name": "stdout",
     "output_type": "stream",
     "text": [
      "ba 3 5\n",
      "ba 10 12\n",
      "ba 12 14\n",
      "ba 14 16\n",
      "ba 16 18\n"
     ]
    }
   ],
   "source": [
    "for m in mat:\n",
    "    print(m.group(), m.start(), m.end())"
   ]
  },
  {
   "cell_type": "markdown",
   "metadata": {},
   "source": [
    "#### sub Method\n",
    "to replace/substitue part of the text with another"
   ]
  },
  {
   "cell_type": "code",
   "execution_count": 15,
   "metadata": {},
   "outputs": [
    {
     "data": {
      "text/plain": [
       "'abbBAaabbbBABABABA'"
      ]
     },
     "execution_count": 15,
     "metadata": {},
     "output_type": "execute_result"
    }
   ],
   "source": [
    "# Replace all 'ba' in the text with BA\n",
    "re.sub('ba', 'BA', text2)"
   ]
  },
  {
   "cell_type": "code",
   "execution_count": 16,
   "metadata": {},
   "outputs": [
    {
     "data": {
      "text/plain": [
       "'abbBAaabbbBAbababa'"
      ]
     },
     "execution_count": 16,
     "metadata": {},
     "output_type": "execute_result"
    }
   ],
   "source": [
    "#Let's limit the replacements to only 2 occurances:\n",
    "re.sub('ba', 'BA', text2, count=2)"
   ]
  },
  {
   "cell_type": "markdown",
   "metadata": {},
   "source": [
    "#### compile Method\n",
    "to compile a pattern so that you can use it later in your other re methods and scripts. It is useful if the same pattern is used repeatitively in the script to improve effeciency."
   ]
  },
  {
   "cell_type": "code",
   "execution_count": 17,
   "metadata": {},
   "outputs": [
    {
     "data": {
      "text/plain": [
       "['ba', 'ba', 'ba', 'ba', 'ba']"
      ]
     },
     "execution_count": 17,
     "metadata": {},
     "output_type": "execute_result"
    }
   ],
   "source": [
    "pat = re.compile(r'ba')\n",
    "re.findall(pat, text2)"
   ]
  },
  {
   "cell_type": "code",
   "execution_count": 18,
   "metadata": {},
   "outputs": [
    {
     "name": "stdout",
     "output_type": "stream",
     "text": [
      "-------------------------------------------\n"
     ]
    }
   ],
   "source": [
    "print('-------------------------------------------')"
   ]
  },
  {
   "cell_type": "code",
   "execution_count": 19,
   "metadata": {},
   "outputs": [],
   "source": [
    "text3 = 'akaks ksdkdkd; aksakks: ajsjss, shshs; ususu;   hshs'"
   ]
  },
  {
   "cell_type": "code",
   "execution_count": 20,
   "metadata": {},
   "outputs": [
    {
     "data": {
      "text/plain": [
       "['akaks', 'ksdkdkd;', 'aksakks:', 'ajsjss,', 'shshs;', 'ususu;', 'hshs']"
      ]
     },
     "execution_count": 20,
     "metadata": {},
     "output_type": "execute_result"
    }
   ],
   "source": [
    "# using str split: It uses 1 splitter at a time. Now, it uses the default space \n",
    "text3.split()"
   ]
  },
  {
   "cell_type": "code",
   "execution_count": 21,
   "metadata": {},
   "outputs": [
    {
     "data": {
      "text/plain": [
       "['akaks', 'ksdkdkd', 'aksakks', 'ajsjss', 'shshs', 'ususu', 'hshs']"
      ]
     },
     "execution_count": 21,
     "metadata": {},
     "output_type": "execute_result"
    }
   ],
   "source": [
    "# Now, using re.split and utilize mutliple splitters (s* is multiple spaces) at a time:\n",
    "re.split(r'[ ;:,]\\s*', text3)"
   ]
  }
 ],
 "metadata": {
  "kernelspec": {
   "display_name": "Python 3",
   "language": "python",
   "name": "python3"
  },
  "language_info": {
   "codemirror_mode": {
    "name": "ipython",
    "version": 3
   },
   "file_extension": ".py",
   "mimetype": "text/x-python",
   "name": "python",
   "nbconvert_exporter": "python",
   "pygments_lexer": "ipython3",
   "version": "3.7.3"
  }
 },
 "nbformat": 4,
 "nbformat_minor": 4
}